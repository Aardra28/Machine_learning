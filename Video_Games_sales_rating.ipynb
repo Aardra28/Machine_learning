{
  "cells": [
    {
      "cell_type": "code",
      "execution_count": null,
      "id": "4b6a5eab",
      "metadata": {
        "id": "4b6a5eab"
      },
      "outputs": [],
      "source": [
        "import numpy as np\n",
        "import seaborn as sns\n",
        "import matplotlib.pyplot as plt"
      ]
    },
    {
      "cell_type": "code",
      "execution_count": null,
      "id": "72f8bac4",
      "metadata": {
        "id": "72f8bac4"
      },
      "outputs": [],
      "source": [
        "import pandas as pd\n",
        "df=pd.read_csv(\"G:\\\\SEM 6\\\\D.V\\\\Video_Games_Sales_as_at_22_Dec_2016.csv\")"
      ]
    },
    {
      "cell_type": "code",
      "execution_count": null,
      "id": "8f1eeaa9",
      "metadata": {
        "id": "8f1eeaa9",
        "outputId": "fc183464-e7b2-413e-e624-e233e624fcd2"
      },
      "outputs": [
        {
          "data": {
            "text/html": [
              "<div>\n",
              "<style scoped>\n",
              "    .dataframe tbody tr th:only-of-type {\n",
              "        vertical-align: middle;\n",
              "    }\n",
              "\n",
              "    .dataframe tbody tr th {\n",
              "        vertical-align: top;\n",
              "    }\n",
              "\n",
              "    .dataframe thead th {\n",
              "        text-align: right;\n",
              "    }\n",
              "</style>\n",
              "<table border=\"1\" class=\"dataframe\">\n",
              "  <thead>\n",
              "    <tr style=\"text-align: right;\">\n",
              "      <th></th>\n",
              "      <th>Name</th>\n",
              "      <th>Platform</th>\n",
              "      <th>Year_of_Release</th>\n",
              "      <th>Genre</th>\n",
              "      <th>Publisher</th>\n",
              "      <th>NA_Sales</th>\n",
              "      <th>EU_Sales</th>\n",
              "      <th>JP_Sales</th>\n",
              "      <th>Other_Sales</th>\n",
              "      <th>Global_Sales</th>\n",
              "      <th>Critic_Score</th>\n",
              "      <th>Critic_Count</th>\n",
              "      <th>User_Score</th>\n",
              "      <th>User_Count</th>\n",
              "      <th>Developer</th>\n",
              "      <th>Rating</th>\n",
              "    </tr>\n",
              "  </thead>\n",
              "  <tbody>\n",
              "    <tr>\n",
              "      <th>0</th>\n",
              "      <td>Wii Sports</td>\n",
              "      <td>Wii</td>\n",
              "      <td>2006.0</td>\n",
              "      <td>Sports</td>\n",
              "      <td>Nintendo</td>\n",
              "      <td>41.36</td>\n",
              "      <td>28.96</td>\n",
              "      <td>3.77</td>\n",
              "      <td>8.45</td>\n",
              "      <td>82.53</td>\n",
              "      <td>76.0</td>\n",
              "      <td>51.0</td>\n",
              "      <td>8</td>\n",
              "      <td>322.0</td>\n",
              "      <td>Nintendo</td>\n",
              "      <td>E</td>\n",
              "    </tr>\n",
              "    <tr>\n",
              "      <th>1</th>\n",
              "      <td>Super Mario Bros.</td>\n",
              "      <td>NES</td>\n",
              "      <td>1985.0</td>\n",
              "      <td>Platform</td>\n",
              "      <td>Nintendo</td>\n",
              "      <td>29.08</td>\n",
              "      <td>3.58</td>\n",
              "      <td>6.81</td>\n",
              "      <td>0.77</td>\n",
              "      <td>40.24</td>\n",
              "      <td>NaN</td>\n",
              "      <td>NaN</td>\n",
              "      <td>NaN</td>\n",
              "      <td>NaN</td>\n",
              "      <td>NaN</td>\n",
              "      <td>NaN</td>\n",
              "    </tr>\n",
              "    <tr>\n",
              "      <th>2</th>\n",
              "      <td>Mario Kart Wii</td>\n",
              "      <td>Wii</td>\n",
              "      <td>2008.0</td>\n",
              "      <td>Racing</td>\n",
              "      <td>Nintendo</td>\n",
              "      <td>15.68</td>\n",
              "      <td>12.76</td>\n",
              "      <td>3.79</td>\n",
              "      <td>3.29</td>\n",
              "      <td>35.52</td>\n",
              "      <td>82.0</td>\n",
              "      <td>73.0</td>\n",
              "      <td>8.3</td>\n",
              "      <td>709.0</td>\n",
              "      <td>Nintendo</td>\n",
              "      <td>E</td>\n",
              "    </tr>\n",
              "    <tr>\n",
              "      <th>3</th>\n",
              "      <td>Wii Sports Resort</td>\n",
              "      <td>Wii</td>\n",
              "      <td>2009.0</td>\n",
              "      <td>Sports</td>\n",
              "      <td>Nintendo</td>\n",
              "      <td>15.61</td>\n",
              "      <td>10.93</td>\n",
              "      <td>3.28</td>\n",
              "      <td>2.95</td>\n",
              "      <td>32.77</td>\n",
              "      <td>80.0</td>\n",
              "      <td>73.0</td>\n",
              "      <td>8</td>\n",
              "      <td>192.0</td>\n",
              "      <td>Nintendo</td>\n",
              "      <td>E</td>\n",
              "    </tr>\n",
              "    <tr>\n",
              "      <th>4</th>\n",
              "      <td>Pokemon Red/Pokemon Blue</td>\n",
              "      <td>GB</td>\n",
              "      <td>1996.0</td>\n",
              "      <td>Role-Playing</td>\n",
              "      <td>Nintendo</td>\n",
              "      <td>11.27</td>\n",
              "      <td>8.89</td>\n",
              "      <td>10.22</td>\n",
              "      <td>1.00</td>\n",
              "      <td>31.37</td>\n",
              "      <td>NaN</td>\n",
              "      <td>NaN</td>\n",
              "      <td>NaN</td>\n",
              "      <td>NaN</td>\n",
              "      <td>NaN</td>\n",
              "      <td>NaN</td>\n",
              "    </tr>\n",
              "    <tr>\n",
              "      <th>...</th>\n",
              "      <td>...</td>\n",
              "      <td>...</td>\n",
              "      <td>...</td>\n",
              "      <td>...</td>\n",
              "      <td>...</td>\n",
              "      <td>...</td>\n",
              "      <td>...</td>\n",
              "      <td>...</td>\n",
              "      <td>...</td>\n",
              "      <td>...</td>\n",
              "      <td>...</td>\n",
              "      <td>...</td>\n",
              "      <td>...</td>\n",
              "      <td>...</td>\n",
              "      <td>...</td>\n",
              "      <td>...</td>\n",
              "    </tr>\n",
              "    <tr>\n",
              "      <th>16714</th>\n",
              "      <td>Samurai Warriors: Sanada Maru</td>\n",
              "      <td>PS3</td>\n",
              "      <td>2016.0</td>\n",
              "      <td>Action</td>\n",
              "      <td>Tecmo Koei</td>\n",
              "      <td>0.00</td>\n",
              "      <td>0.00</td>\n",
              "      <td>0.01</td>\n",
              "      <td>0.00</td>\n",
              "      <td>0.01</td>\n",
              "      <td>NaN</td>\n",
              "      <td>NaN</td>\n",
              "      <td>NaN</td>\n",
              "      <td>NaN</td>\n",
              "      <td>NaN</td>\n",
              "      <td>NaN</td>\n",
              "    </tr>\n",
              "    <tr>\n",
              "      <th>16715</th>\n",
              "      <td>LMA Manager 2007</td>\n",
              "      <td>X360</td>\n",
              "      <td>2006.0</td>\n",
              "      <td>Sports</td>\n",
              "      <td>Codemasters</td>\n",
              "      <td>0.00</td>\n",
              "      <td>0.01</td>\n",
              "      <td>0.00</td>\n",
              "      <td>0.00</td>\n",
              "      <td>0.01</td>\n",
              "      <td>NaN</td>\n",
              "      <td>NaN</td>\n",
              "      <td>NaN</td>\n",
              "      <td>NaN</td>\n",
              "      <td>NaN</td>\n",
              "      <td>NaN</td>\n",
              "    </tr>\n",
              "    <tr>\n",
              "      <th>16716</th>\n",
              "      <td>Haitaka no Psychedelica</td>\n",
              "      <td>PSV</td>\n",
              "      <td>2016.0</td>\n",
              "      <td>Adventure</td>\n",
              "      <td>Idea Factory</td>\n",
              "      <td>0.00</td>\n",
              "      <td>0.00</td>\n",
              "      <td>0.01</td>\n",
              "      <td>0.00</td>\n",
              "      <td>0.01</td>\n",
              "      <td>NaN</td>\n",
              "      <td>NaN</td>\n",
              "      <td>NaN</td>\n",
              "      <td>NaN</td>\n",
              "      <td>NaN</td>\n",
              "      <td>NaN</td>\n",
              "    </tr>\n",
              "    <tr>\n",
              "      <th>16717</th>\n",
              "      <td>Spirits &amp; Spells</td>\n",
              "      <td>GBA</td>\n",
              "      <td>2003.0</td>\n",
              "      <td>Platform</td>\n",
              "      <td>Wanadoo</td>\n",
              "      <td>0.01</td>\n",
              "      <td>0.00</td>\n",
              "      <td>0.00</td>\n",
              "      <td>0.00</td>\n",
              "      <td>0.01</td>\n",
              "      <td>NaN</td>\n",
              "      <td>NaN</td>\n",
              "      <td>NaN</td>\n",
              "      <td>NaN</td>\n",
              "      <td>NaN</td>\n",
              "      <td>NaN</td>\n",
              "    </tr>\n",
              "    <tr>\n",
              "      <th>16718</th>\n",
              "      <td>Winning Post 8 2016</td>\n",
              "      <td>PSV</td>\n",
              "      <td>2016.0</td>\n",
              "      <td>Simulation</td>\n",
              "      <td>Tecmo Koei</td>\n",
              "      <td>0.00</td>\n",
              "      <td>0.00</td>\n",
              "      <td>0.01</td>\n",
              "      <td>0.00</td>\n",
              "      <td>0.01</td>\n",
              "      <td>NaN</td>\n",
              "      <td>NaN</td>\n",
              "      <td>NaN</td>\n",
              "      <td>NaN</td>\n",
              "      <td>NaN</td>\n",
              "      <td>NaN</td>\n",
              "    </tr>\n",
              "  </tbody>\n",
              "</table>\n",
              "<p>16719 rows × 16 columns</p>\n",
              "</div>"
            ],
            "text/plain": [
              "                                Name Platform  Year_of_Release         Genre  \\\n",
              "0                         Wii Sports      Wii           2006.0        Sports   \n",
              "1                  Super Mario Bros.      NES           1985.0      Platform   \n",
              "2                     Mario Kart Wii      Wii           2008.0        Racing   \n",
              "3                  Wii Sports Resort      Wii           2009.0        Sports   \n",
              "4           Pokemon Red/Pokemon Blue       GB           1996.0  Role-Playing   \n",
              "...                              ...      ...              ...           ...   \n",
              "16714  Samurai Warriors: Sanada Maru      PS3           2016.0        Action   \n",
              "16715               LMA Manager 2007     X360           2006.0        Sports   \n",
              "16716        Haitaka no Psychedelica      PSV           2016.0     Adventure   \n",
              "16717               Spirits & Spells      GBA           2003.0      Platform   \n",
              "16718            Winning Post 8 2016      PSV           2016.0    Simulation   \n",
              "\n",
              "          Publisher  NA_Sales  EU_Sales  JP_Sales  Other_Sales  Global_Sales  \\\n",
              "0          Nintendo     41.36     28.96      3.77         8.45         82.53   \n",
              "1          Nintendo     29.08      3.58      6.81         0.77         40.24   \n",
              "2          Nintendo     15.68     12.76      3.79         3.29         35.52   \n",
              "3          Nintendo     15.61     10.93      3.28         2.95         32.77   \n",
              "4          Nintendo     11.27      8.89     10.22         1.00         31.37   \n",
              "...             ...       ...       ...       ...          ...           ...   \n",
              "16714    Tecmo Koei      0.00      0.00      0.01         0.00          0.01   \n",
              "16715   Codemasters      0.00      0.01      0.00         0.00          0.01   \n",
              "16716  Idea Factory      0.00      0.00      0.01         0.00          0.01   \n",
              "16717       Wanadoo      0.01      0.00      0.00         0.00          0.01   \n",
              "16718    Tecmo Koei      0.00      0.00      0.01         0.00          0.01   \n",
              "\n",
              "       Critic_Score  Critic_Count User_Score  User_Count Developer Rating  \n",
              "0              76.0          51.0          8       322.0  Nintendo      E  \n",
              "1               NaN           NaN        NaN         NaN       NaN    NaN  \n",
              "2              82.0          73.0        8.3       709.0  Nintendo      E  \n",
              "3              80.0          73.0          8       192.0  Nintendo      E  \n",
              "4               NaN           NaN        NaN         NaN       NaN    NaN  \n",
              "...             ...           ...        ...         ...       ...    ...  \n",
              "16714           NaN           NaN        NaN         NaN       NaN    NaN  \n",
              "16715           NaN           NaN        NaN         NaN       NaN    NaN  \n",
              "16716           NaN           NaN        NaN         NaN       NaN    NaN  \n",
              "16717           NaN           NaN        NaN         NaN       NaN    NaN  \n",
              "16718           NaN           NaN        NaN         NaN       NaN    NaN  \n",
              "\n",
              "[16719 rows x 16 columns]"
            ]
          },
          "execution_count": 59,
          "metadata": {},
          "output_type": "execute_result"
        }
      ],
      "source": [
        "df"
      ]
    },
    {
      "cell_type": "code",
      "execution_count": null,
      "id": "a6d7ddb5",
      "metadata": {
        "scrolled": true,
        "id": "a6d7ddb5",
        "outputId": "b17aad70-22a4-4543-c291-092c8a743225"
      },
      "outputs": [
        {
          "name": "stdout",
          "output_type": "stream",
          "text": [
            "<class 'pandas.core.frame.DataFrame'>\n",
            "RangeIndex: 16719 entries, 0 to 16718\n",
            "Data columns (total 16 columns):\n",
            " #   Column           Non-Null Count  Dtype  \n",
            "---  ------           --------------  -----  \n",
            " 0   Name             16717 non-null  object \n",
            " 1   Platform         16719 non-null  object \n",
            " 2   Year_of_Release  16450 non-null  float64\n",
            " 3   Genre            16717 non-null  object \n",
            " 4   Publisher        16665 non-null  object \n",
            " 5   NA_Sales         16719 non-null  float64\n",
            " 6   EU_Sales         16719 non-null  float64\n",
            " 7   JP_Sales         16719 non-null  float64\n",
            " 8   Other_Sales      16719 non-null  float64\n",
            " 9   Global_Sales     16719 non-null  float64\n",
            " 10  Critic_Score     8137 non-null   float64\n",
            " 11  Critic_Count     8137 non-null   float64\n",
            " 12  User_Score       10015 non-null  object \n",
            " 13  User_Count       7590 non-null   float64\n",
            " 14  Developer        10096 non-null  object \n",
            " 15  Rating           9950 non-null   object \n",
            "dtypes: float64(9), object(7)\n",
            "memory usage: 2.0+ MB\n"
          ]
        }
      ],
      "source": [
        "df.info()"
      ]
    },
    {
      "cell_type": "code",
      "execution_count": null,
      "id": "d399a401",
      "metadata": {
        "id": "d399a401",
        "outputId": "9159fd06-c68c-4e2c-94c4-5f8de3de86f0"
      },
      "outputs": [
        {
          "data": {
            "text/plain": [
              "Index(['Name', 'Platform', 'Year_of_Release', 'Genre', 'Publisher', 'NA_Sales',\n",
              "       'EU_Sales', 'JP_Sales', 'Other_Sales', 'Global_Sales', 'Critic_Score',\n",
              "       'Critic_Count', 'User_Score', 'User_Count', 'Developer', 'Rating'],\n",
              "      dtype='object')"
            ]
          },
          "execution_count": 61,
          "metadata": {},
          "output_type": "execute_result"
        }
      ],
      "source": [
        "df.columns"
      ]
    },
    {
      "cell_type": "code",
      "execution_count": null,
      "id": "fe5bbadf",
      "metadata": {
        "id": "fe5bbadf",
        "outputId": "21c0d8b5-a089-4eaf-fcae-a4a67ada0ecc"
      },
      "outputs": [
        {
          "name": "stdout",
          "output_type": "stream",
          "text": [
            "<class 'pandas.core.frame.DataFrame'>\n",
            "RangeIndex: 16719 entries, 0 to 16718\n",
            "Data columns (total 16 columns):\n",
            " #   Column           Non-Null Count  Dtype  \n",
            "---  ------           --------------  -----  \n",
            " 0   Name             16717 non-null  object \n",
            " 1   Platform         16719 non-null  object \n",
            " 2   Year_of_Release  16450 non-null  float64\n",
            " 3   Genre            16717 non-null  object \n",
            " 4   Publisher        16665 non-null  object \n",
            " 5   NA_Sales         16719 non-null  float64\n",
            " 6   EU_Sales         16719 non-null  float64\n",
            " 7   JP_Sales         16719 non-null  float64\n",
            " 8   Other_Sales      16719 non-null  float64\n",
            " 9   Global_Sales     16719 non-null  float64\n",
            " 10  Critic_Score     8137 non-null   float64\n",
            " 11  Critic_Count     8137 non-null   float64\n",
            " 12  User_Score       7590 non-null   float64\n",
            " 13  User_Count       7590 non-null   float64\n",
            " 14  Developer        10096 non-null  object \n",
            " 15  Rating           9950 non-null   object \n",
            "dtypes: float64(10), object(6)\n",
            "memory usage: 2.0+ MB\n"
          ]
        }
      ],
      "source": [
        "df[\"User_Score\"] = df[\"User_Score\"].replace(\"tbd\", np.nan).astype(float)\n",
        "df.info()"
      ]
    },
    {
      "cell_type": "code",
      "execution_count": null,
      "id": "aba83a73",
      "metadata": {
        "id": "aba83a73",
        "outputId": "9e6ca518-ee93-41b4-df4f-e4896eeed93a"
      },
      "outputs": [
        {
          "data": {
            "text/html": [
              "<div>\n",
              "<style scoped>\n",
              "    .dataframe tbody tr th:only-of-type {\n",
              "        vertical-align: middle;\n",
              "    }\n",
              "\n",
              "    .dataframe tbody tr th {\n",
              "        vertical-align: top;\n",
              "    }\n",
              "\n",
              "    .dataframe thead th {\n",
              "        text-align: right;\n",
              "    }\n",
              "</style>\n",
              "<table border=\"1\" class=\"dataframe\">\n",
              "  <thead>\n",
              "    <tr style=\"text-align: right;\">\n",
              "      <th></th>\n",
              "      <th>Year_of_Release</th>\n",
              "      <th>NA_Sales</th>\n",
              "      <th>EU_Sales</th>\n",
              "      <th>JP_Sales</th>\n",
              "      <th>Other_Sales</th>\n",
              "      <th>Global_Sales</th>\n",
              "      <th>Critic_Score</th>\n",
              "      <th>Critic_Count</th>\n",
              "      <th>User_Score</th>\n",
              "      <th>User_Count</th>\n",
              "    </tr>\n",
              "  </thead>\n",
              "  <tbody>\n",
              "    <tr>\n",
              "      <th>count</th>\n",
              "      <td>16450.000000</td>\n",
              "      <td>16719.000000</td>\n",
              "      <td>16719.000000</td>\n",
              "      <td>16719.000000</td>\n",
              "      <td>16719.000000</td>\n",
              "      <td>16719.000000</td>\n",
              "      <td>8137.000000</td>\n",
              "      <td>8137.000000</td>\n",
              "      <td>7590.000000</td>\n",
              "      <td>7590.000000</td>\n",
              "    </tr>\n",
              "    <tr>\n",
              "      <th>mean</th>\n",
              "      <td>2006.487356</td>\n",
              "      <td>0.263330</td>\n",
              "      <td>0.145025</td>\n",
              "      <td>0.077602</td>\n",
              "      <td>0.047332</td>\n",
              "      <td>0.533543</td>\n",
              "      <td>68.967679</td>\n",
              "      <td>26.360821</td>\n",
              "      <td>7.125046</td>\n",
              "      <td>162.229908</td>\n",
              "    </tr>\n",
              "    <tr>\n",
              "      <th>std</th>\n",
              "      <td>5.878995</td>\n",
              "      <td>0.813514</td>\n",
              "      <td>0.503283</td>\n",
              "      <td>0.308818</td>\n",
              "      <td>0.186710</td>\n",
              "      <td>1.547935</td>\n",
              "      <td>13.938165</td>\n",
              "      <td>18.980495</td>\n",
              "      <td>1.500006</td>\n",
              "      <td>561.282326</td>\n",
              "    </tr>\n",
              "    <tr>\n",
              "      <th>min</th>\n",
              "      <td>1980.000000</td>\n",
              "      <td>0.000000</td>\n",
              "      <td>0.000000</td>\n",
              "      <td>0.000000</td>\n",
              "      <td>0.000000</td>\n",
              "      <td>0.010000</td>\n",
              "      <td>13.000000</td>\n",
              "      <td>3.000000</td>\n",
              "      <td>0.000000</td>\n",
              "      <td>4.000000</td>\n",
              "    </tr>\n",
              "    <tr>\n",
              "      <th>25%</th>\n",
              "      <td>2003.000000</td>\n",
              "      <td>0.000000</td>\n",
              "      <td>0.000000</td>\n",
              "      <td>0.000000</td>\n",
              "      <td>0.000000</td>\n",
              "      <td>0.060000</td>\n",
              "      <td>60.000000</td>\n",
              "      <td>12.000000</td>\n",
              "      <td>6.400000</td>\n",
              "      <td>10.000000</td>\n",
              "    </tr>\n",
              "    <tr>\n",
              "      <th>50%</th>\n",
              "      <td>2007.000000</td>\n",
              "      <td>0.080000</td>\n",
              "      <td>0.020000</td>\n",
              "      <td>0.000000</td>\n",
              "      <td>0.010000</td>\n",
              "      <td>0.170000</td>\n",
              "      <td>71.000000</td>\n",
              "      <td>21.000000</td>\n",
              "      <td>7.500000</td>\n",
              "      <td>24.000000</td>\n",
              "    </tr>\n",
              "    <tr>\n",
              "      <th>75%</th>\n",
              "      <td>2010.000000</td>\n",
              "      <td>0.240000</td>\n",
              "      <td>0.110000</td>\n",
              "      <td>0.040000</td>\n",
              "      <td>0.030000</td>\n",
              "      <td>0.470000</td>\n",
              "      <td>79.000000</td>\n",
              "      <td>36.000000</td>\n",
              "      <td>8.200000</td>\n",
              "      <td>81.000000</td>\n",
              "    </tr>\n",
              "    <tr>\n",
              "      <th>max</th>\n",
              "      <td>2020.000000</td>\n",
              "      <td>41.360000</td>\n",
              "      <td>28.960000</td>\n",
              "      <td>10.220000</td>\n",
              "      <td>10.570000</td>\n",
              "      <td>82.530000</td>\n",
              "      <td>98.000000</td>\n",
              "      <td>113.000000</td>\n",
              "      <td>9.700000</td>\n",
              "      <td>10665.000000</td>\n",
              "    </tr>\n",
              "  </tbody>\n",
              "</table>\n",
              "</div>"
            ],
            "text/plain": [
              "       Year_of_Release      NA_Sales      EU_Sales      JP_Sales  \\\n",
              "count     16450.000000  16719.000000  16719.000000  16719.000000   \n",
              "mean       2006.487356      0.263330      0.145025      0.077602   \n",
              "std           5.878995      0.813514      0.503283      0.308818   \n",
              "min        1980.000000      0.000000      0.000000      0.000000   \n",
              "25%        2003.000000      0.000000      0.000000      0.000000   \n",
              "50%        2007.000000      0.080000      0.020000      0.000000   \n",
              "75%        2010.000000      0.240000      0.110000      0.040000   \n",
              "max        2020.000000     41.360000     28.960000     10.220000   \n",
              "\n",
              "        Other_Sales  Global_Sales  Critic_Score  Critic_Count   User_Score  \\\n",
              "count  16719.000000  16719.000000   8137.000000   8137.000000  7590.000000   \n",
              "mean       0.047332      0.533543     68.967679     26.360821     7.125046   \n",
              "std        0.186710      1.547935     13.938165     18.980495     1.500006   \n",
              "min        0.000000      0.010000     13.000000      3.000000     0.000000   \n",
              "25%        0.000000      0.060000     60.000000     12.000000     6.400000   \n",
              "50%        0.010000      0.170000     71.000000     21.000000     7.500000   \n",
              "75%        0.030000      0.470000     79.000000     36.000000     8.200000   \n",
              "max       10.570000     82.530000     98.000000    113.000000     9.700000   \n",
              "\n",
              "         User_Count  \n",
              "count   7590.000000  \n",
              "mean     162.229908  \n",
              "std      561.282326  \n",
              "min        4.000000  \n",
              "25%       10.000000  \n",
              "50%       24.000000  \n",
              "75%       81.000000  \n",
              "max    10665.000000  "
            ]
          },
          "execution_count": 63,
          "metadata": {},
          "output_type": "execute_result"
        }
      ],
      "source": [
        "df.describe()"
      ]
    },
    {
      "cell_type": "code",
      "execution_count": null,
      "id": "dcb88ee9",
      "metadata": {
        "id": "dcb88ee9",
        "outputId": "bff8c0da-59c8-4d96-8282-1d448c516c48"
      },
      "outputs": [
        {
          "data": {
            "text/plain": [
              "(16719, 16)"
            ]
          },
          "execution_count": 64,
          "metadata": {},
          "output_type": "execute_result"
        }
      ],
      "source": [
        "df.shape"
      ]
    },
    {
      "cell_type": "code",
      "execution_count": null,
      "id": "b902a59e",
      "metadata": {
        "id": "b902a59e",
        "outputId": "916959ba-da77-4780-b149-4e6b62f9b706"
      },
      "outputs": [
        {
          "data": {
            "text/plain": [
              "<AxesSubplot:>"
            ]
          },
          "execution_count": 65,
          "metadata": {},
          "output_type": "execute_result"
        },
        {
          "data": {
            "image/png": "[encoded data removed]",
            "text/plain": [
              "<Figure size 720x432 with 2 Axes>"
            ]
          },
          "metadata": {},
          "output_type": "display_data"
        }
      ],
      "source": [
        "fig,ax = plt.subplots(figsize = (10,6))\n",
        "corr = df.corr()\n",
        "sns.heatmap(corr,annot=True)"
      ]
    },
    {
      "cell_type": "markdown",
      "id": "b16f04f5",
      "metadata": {
        "id": "b16f04f5"
      },
      "source": [
        "## DUPLICATE VALUES"
      ]
    },
    {
      "cell_type": "code",
      "execution_count": null,
      "id": "5fb6d73a",
      "metadata": {
        "id": "5fb6d73a",
        "outputId": "f67dbb62-f1fd-4c1b-f9e5-976981d6e2f2"
      },
      "outputs": [
        {
          "data": {
            "text/plain": [
              "0"
            ]
          },
          "execution_count": 66,
          "metadata": {},
          "output_type": "execute_result"
        }
      ],
      "source": [
        "df.duplicated().sum()"
      ]
    },
    {
      "cell_type": "code",
      "execution_count": null,
      "id": "8c9735f7",
      "metadata": {
        "id": "8c9735f7",
        "outputId": "560a818c-d248-4819-ec98-c1846db33637"
      },
      "outputs": [
        {
          "data": {
            "text/html": [
              "<div>\n",
              "<style scoped>\n",
              "    .dataframe tbody tr th:only-of-type {\n",
              "        vertical-align: middle;\n",
              "    }\n",
              "\n",
              "    .dataframe tbody tr th {\n",
              "        vertical-align: top;\n",
              "    }\n",
              "\n",
              "    .dataframe thead th {\n",
              "        text-align: right;\n",
              "    }\n",
              "</style>\n",
              "<table border=\"1\" class=\"dataframe\">\n",
              "  <thead>\n",
              "    <tr style=\"text-align: right;\">\n",
              "      <th></th>\n",
              "      <th>Name</th>\n",
              "      <th>Platform</th>\n",
              "      <th>Year_of_Release</th>\n",
              "      <th>Genre</th>\n",
              "      <th>Publisher</th>\n",
              "      <th>NA_Sales</th>\n",
              "      <th>EU_Sales</th>\n",
              "      <th>JP_Sales</th>\n",
              "      <th>Other_Sales</th>\n",
              "      <th>Global_Sales</th>\n",
              "      <th>Critic_Score</th>\n",
              "      <th>Critic_Count</th>\n",
              "      <th>User_Score</th>\n",
              "      <th>User_Count</th>\n",
              "      <th>Developer</th>\n",
              "      <th>Rating</th>\n",
              "    </tr>\n",
              "  </thead>\n",
              "  <tbody>\n",
              "    <tr>\n",
              "      <th>0</th>\n",
              "      <td>Wii Sports</td>\n",
              "      <td>Wii</td>\n",
              "      <td>2006.0</td>\n",
              "      <td>Sports</td>\n",
              "      <td>Nintendo</td>\n",
              "      <td>41.36</td>\n",
              "      <td>28.96</td>\n",
              "      <td>3.77</td>\n",
              "      <td>8.45</td>\n",
              "      <td>82.53</td>\n",
              "      <td>76.0</td>\n",
              "      <td>51.0</td>\n",
              "      <td>8.0</td>\n",
              "      <td>322.0</td>\n",
              "      <td>Nintendo</td>\n",
              "      <td>E</td>\n",
              "    </tr>\n",
              "    <tr>\n",
              "      <th>1</th>\n",
              "      <td>Super Mario Bros.</td>\n",
              "      <td>NES</td>\n",
              "      <td>1985.0</td>\n",
              "      <td>Platform</td>\n",
              "      <td>Nintendo</td>\n",
              "      <td>29.08</td>\n",
              "      <td>3.58</td>\n",
              "      <td>6.81</td>\n",
              "      <td>0.77</td>\n",
              "      <td>40.24</td>\n",
              "      <td>NaN</td>\n",
              "      <td>NaN</td>\n",
              "      <td>NaN</td>\n",
              "      <td>NaN</td>\n",
              "      <td>NaN</td>\n",
              "      <td>NaN</td>\n",
              "    </tr>\n",
              "    <tr>\n",
              "      <th>2</th>\n",
              "      <td>Mario Kart Wii</td>\n",
              "      <td>Wii</td>\n",
              "      <td>2008.0</td>\n",
              "      <td>Racing</td>\n",
              "      <td>Nintendo</td>\n",
              "      <td>15.68</td>\n",
              "      <td>12.76</td>\n",
              "      <td>3.79</td>\n",
              "      <td>3.29</td>\n",
              "      <td>35.52</td>\n",
              "      <td>82.0</td>\n",
              "      <td>73.0</td>\n",
              "      <td>8.3</td>\n",
              "      <td>709.0</td>\n",
              "      <td>Nintendo</td>\n",
              "      <td>E</td>\n",
              "    </tr>\n",
              "    <tr>\n",
              "      <th>3</th>\n",
              "      <td>Wii Sports Resort</td>\n",
              "      <td>Wii</td>\n",
              "      <td>2009.0</td>\n",
              "      <td>Sports</td>\n",
              "      <td>Nintendo</td>\n",
              "      <td>15.61</td>\n",
              "      <td>10.93</td>\n",
              "      <td>3.28</td>\n",
              "      <td>2.95</td>\n",
              "      <td>32.77</td>\n",
              "      <td>80.0</td>\n",
              "      <td>73.0</td>\n",
              "      <td>8.0</td>\n",
              "      <td>192.0</td>\n",
              "      <td>Nintendo</td>\n",
              "      <td>E</td>\n",
              "    </tr>\n",
              "    <tr>\n",
              "      <th>4</th>\n",
              "      <td>Pokemon Red/Pokemon Blue</td>\n",
              "      <td>GB</td>\n",
              "      <td>1996.0</td>\n",
              "      <td>Role-Playing</td>\n",
              "      <td>Nintendo</td>\n",
              "      <td>11.27</td>\n",
              "      <td>8.89</td>\n",
              "      <td>10.22</td>\n",
              "      <td>1.00</td>\n",
              "      <td>31.37</td>\n",
              "      <td>NaN</td>\n",
              "      <td>NaN</td>\n",
              "      <td>NaN</td>\n",
              "      <td>NaN</td>\n",
              "      <td>NaN</td>\n",
              "      <td>NaN</td>\n",
              "    </tr>\n",
              "    <tr>\n",
              "      <th>...</th>\n",
              "      <td>...</td>\n",
              "      <td>...</td>\n",
              "      <td>...</td>\n",
              "      <td>...</td>\n",
              "      <td>...</td>\n",
              "      <td>...</td>\n",
              "      <td>...</td>\n",
              "      <td>...</td>\n",
              "      <td>...</td>\n",
              "      <td>...</td>\n",
              "      <td>...</td>\n",
              "      <td>...</td>\n",
              "      <td>...</td>\n",
              "      <td>...</td>\n",
              "      <td>...</td>\n",
              "      <td>...</td>\n",
              "    </tr>\n",
              "    <tr>\n",
              "      <th>16714</th>\n",
              "      <td>Samurai Warriors: Sanada Maru</td>\n",
              "      <td>PS3</td>\n",
              "      <td>2016.0</td>\n",
              "      <td>Action</td>\n",
              "      <td>Tecmo Koei</td>\n",
              "      <td>0.00</td>\n",
              "      <td>0.00</td>\n",
              "      <td>0.01</td>\n",
              "      <td>0.00</td>\n",
              "      <td>0.01</td>\n",
              "      <td>NaN</td>\n",
              "      <td>NaN</td>\n",
              "      <td>NaN</td>\n",
              "      <td>NaN</td>\n",
              "      <td>NaN</td>\n",
              "      <td>NaN</td>\n",
              "    </tr>\n",
              "    <tr>\n",
              "      <th>16715</th>\n",
              "      <td>LMA Manager 2007</td>\n",
              "      <td>X360</td>\n",
              "      <td>2006.0</td>\n",
              "      <td>Sports</td>\n",
              "      <td>Codemasters</td>\n",
              "      <td>0.00</td>\n",
              "      <td>0.01</td>\n",
              "      <td>0.00</td>\n",
              "      <td>0.00</td>\n",
              "      <td>0.01</td>\n",
              "      <td>NaN</td>\n",
              "      <td>NaN</td>\n",
              "      <td>NaN</td>\n",
              "      <td>NaN</td>\n",
              "      <td>NaN</td>\n",
              "      <td>NaN</td>\n",
              "    </tr>\n",
              "    <tr>\n",
              "      <th>16716</th>\n",
              "      <td>Haitaka no Psychedelica</td>\n",
              "      <td>PSV</td>\n",
              "      <td>2016.0</td>\n",
              "      <td>Adventure</td>\n",
              "      <td>Idea Factory</td>\n",
              "      <td>0.00</td>\n",
              "      <td>0.00</td>\n",
              "      <td>0.01</td>\n",
              "      <td>0.00</td>\n",
              "      <td>0.01</td>\n",
              "      <td>NaN</td>\n",
              "      <td>NaN</td>\n",
              "      <td>NaN</td>\n",
              "      <td>NaN</td>\n",
              "      <td>NaN</td>\n",
              "      <td>NaN</td>\n",
              "    </tr>\n",
              "    <tr>\n",
              "      <th>16717</th>\n",
              "      <td>Spirits &amp; Spells</td>\n",
              "      <td>GBA</td>\n",
              "      <td>2003.0</td>\n",
              "      <td>Platform</td>\n",
              "      <td>Wanadoo</td>\n",
              "      <td>0.01</td>\n",
              "      <td>0.00</td>\n",
              "      <td>0.00</td>\n",
              "      <td>0.00</td>\n",
              "      <td>0.01</td>\n",
              "      <td>NaN</td>\n",
              "      <td>NaN</td>\n",
              "      <td>NaN</td>\n",
              "      <td>NaN</td>\n",
              "      <td>NaN</td>\n",
              "      <td>NaN</td>\n",
              "    </tr>\n",
              "    <tr>\n",
              "      <th>16718</th>\n",
              "      <td>Winning Post 8 2016</td>\n",
              "      <td>PSV</td>\n",
              "      <td>2016.0</td>\n",
              "      <td>Simulation</td>\n",
              "      <td>Tecmo Koei</td>\n",
              "      <td>0.00</td>\n",
              "      <td>0.00</td>\n",
              "      <td>0.01</td>\n",
              "      <td>0.00</td>\n",
              "      <td>0.01</td>\n",
              "      <td>NaN</td>\n",
              "      <td>NaN</td>\n",
              "      <td>NaN</td>\n",
              "      <td>NaN</td>\n",
              "      <td>NaN</td>\n",
              "      <td>NaN</td>\n",
              "    </tr>\n",
              "  </tbody>\n",
              "</table>\n",
              "<p>16719 rows × 16 columns</p>\n",
              "</div>"
            ],
            "text/plain": [
              "                                Name Platform  Year_of_Release         Genre  \\\n",
              "0                         Wii Sports      Wii           2006.0        Sports   \n",
              "1                  Super Mario Bros.      NES           1985.0      Platform   \n",
              "2                     Mario Kart Wii      Wii           2008.0        Racing   \n",
              "3                  Wii Sports Resort      Wii           2009.0        Sports   \n",
              "4           Pokemon Red/Pokemon Blue       GB           1996.0  Role-Playing   \n",
              "...                              ...      ...              ...           ...   \n",
              "16714  Samurai Warriors: Sanada Maru      PS3           2016.0        Action   \n",
              "16715               LMA Manager 2007     X360           2006.0        Sports   \n",
              "16716        Haitaka no Psychedelica      PSV           2016.0     Adventure   \n",
              "16717               Spirits & Spells      GBA           2003.0      Platform   \n",
              "16718            Winning Post 8 2016      PSV           2016.0    Simulation   \n",
              "\n",
              "          Publisher  NA_Sales  EU_Sales  JP_Sales  Other_Sales  Global_Sales  \\\n",
              "0          Nintendo     41.36     28.96      3.77         8.45         82.53   \n",
              "1          Nintendo     29.08      3.58      6.81         0.77         40.24   \n",
              "2          Nintendo     15.68     12.76      3.79         3.29         35.52   \n",
              "3          Nintendo     15.61     10.93      3.28         2.95         32.77   \n",
              "4          Nintendo     11.27      8.89     10.22         1.00         31.37   \n",
              "...             ...       ...       ...       ...          ...           ...   \n",
              "16714    Tecmo Koei      0.00      0.00      0.01         0.00          0.01   \n",
              "16715   Codemasters      0.00      0.01      0.00         0.00          0.01   \n",
              "16716  Idea Factory      0.00      0.00      0.01         0.00          0.01   \n",
              "16717       Wanadoo      0.01      0.00      0.00         0.00          0.01   \n",
              "16718    Tecmo Koei      0.00      0.00      0.01         0.00          0.01   \n",
              "\n",
              "       Critic_Score  Critic_Count  User_Score  User_Count Developer Rating  \n",
              "0              76.0          51.0         8.0       322.0  Nintendo      E  \n",
              "1               NaN           NaN         NaN         NaN       NaN    NaN  \n",
              "2              82.0          73.0         8.3       709.0  Nintendo      E  \n",
              "3              80.0          73.0         8.0       192.0  Nintendo      E  \n",
              "4               NaN           NaN         NaN         NaN       NaN    NaN  \n",
              "...             ...           ...         ...         ...       ...    ...  \n",
              "16714           NaN           NaN         NaN         NaN       NaN    NaN  \n",
              "16715           NaN           NaN         NaN         NaN       NaN    NaN  \n",
              "16716           NaN           NaN         NaN         NaN       NaN    NaN  \n",
              "16717           NaN           NaN         NaN         NaN       NaN    NaN  \n",
              "16718           NaN           NaN         NaN         NaN       NaN    NaN  \n",
              "\n",
              "[16719 rows x 16 columns]"
            ]
          },
          "execution_count": 67,
          "metadata": {},
          "output_type": "execute_result"
        }
      ],
      "source": [
        "df.drop_duplicates()"
      ]
    },
    {
      "cell_type": "markdown",
      "id": "6fcc61df",
      "metadata": {
        "id": "6fcc61df"
      },
      "source": [
        "## HANDLING NULL VALUES"
      ]
    },
    {
      "cell_type": "code",
      "execution_count": null,
      "id": "53c8e85a",
      "metadata": {
        "id": "53c8e85a",
        "outputId": "1788788d-2c5b-4615-d15f-ef2c0f35691f"
      },
      "outputs": [
        {
          "data": {
            "text/plain": [
              "Name                  2\n",
              "Platform              0\n",
              "Year_of_Release     269\n",
              "Genre                 2\n",
              "Publisher            54\n",
              "NA_Sales              0\n",
              "EU_Sales              0\n",
              "JP_Sales              0\n",
              "Other_Sales           0\n",
              "Global_Sales          0\n",
              "Critic_Score       8582\n",
              "Critic_Count       8582\n",
              "User_Score         9129\n",
              "User_Count         9129\n",
              "Developer          6623\n",
              "Rating             6769\n",
              "dtype: int64"
            ]
          },
          "execution_count": 68,
          "metadata": {},
          "output_type": "execute_result"
        }
      ],
      "source": [
        "df.isnull().sum()"
      ]
    },
    {
      "cell_type": "code",
      "execution_count": null,
      "id": "b93a7d65",
      "metadata": {
        "id": "b93a7d65",
        "outputId": "1d7b5a9b-36d4-48ec-ad63-aa18b7fa8a2d"
      },
      "outputs": [
        {
          "data": {
            "text/plain": [
              "<AxesSubplot:>"
            ]
          },
          "execution_count": 69,
          "metadata": {},
          "output_type": "execute_result"
        },
        {
          "data": {
            "image/png": "[encoded data removed]",
            "text/plain": [
              "<Figure size 1800x720 with 1 Axes>"
            ]
          },
          "metadata": {},
          "output_type": "display_data"
        }
      ],
      "source": [
        "sns.heatmap(df.isnull(),yticklabels=False,cbar=False, cmap=\"magma\")"
      ]
    },
    {
      "cell_type": "code",
      "execution_count": null,
      "id": "f999dc48",
      "metadata": {
        "id": "f999dc48"
      },
      "outputs": [],
      "source": [
        "def missing_values_table(df):\n",
        "        mis_val = df.isnull().sum()\n",
        "        mis_val_percent = 100 * df.isnull().sum() / len(df)\n",
        "        mis_val_table = pd.concat([mis_val, mis_val_percent], axis=1)\n",
        "        mis_val_table_ren_columns = mis_val_table.rename(\n",
        "        columns = {0 : \"Missing Values\", 1 : \"% of Total Values\"})\n",
        "        mis_val_table_ren_columns = mis_val_table_ren_columns[mis_val_table_ren_columns.iloc[:,1] != 0].sort_values(\n",
        "        \"% of Total Values\", ascending=False).round(3)\n",
        "        print (\"Your selected dataframe has \" + str(df.shape[1]) + \" columns.\\n\"\n",
        "            \"There are \" + str(mis_val_table_ren_columns.shape[0]) +\n",
        "              \" columns that have missing values.\")\n",
        "        return mis_val_table_ren_columns"
      ]
    },
    {
      "cell_type": "code",
      "execution_count": null,
      "id": "83f54bb5",
      "metadata": {
        "id": "83f54bb5",
        "outputId": "a9b427f8-05b9-4fee-b0f1-8c09d35cf5f9"
      },
      "outputs": [
        {
          "name": "stdout",
          "output_type": "stream",
          "text": [
            "Your selected dataframe has 16 columns.\n",
            "There are 10 columns that have missing values.\n"
          ]
        },
        {
          "data": {
            "text/html": [
              "<div>\n",
              "<style scoped>\n",
              "    .dataframe tbody tr th:only-of-type {\n",
              "        vertical-align: middle;\n",
              "    }\n",
              "\n",
              "    .dataframe tbody tr th {\n",
              "        vertical-align: top;\n",
              "    }\n",
              "\n",
              "    .dataframe thead th {\n",
              "        text-align: right;\n",
              "    }\n",
              "</style>\n",
              "<table border=\"1\" class=\"dataframe\">\n",
              "  <thead>\n",
              "    <tr style=\"text-align: right;\">\n",
              "      <th></th>\n",
              "      <th>Missing Values</th>\n",
              "      <th>% of Total Values</th>\n",
              "    </tr>\n",
              "  </thead>\n",
              "  <tbody>\n",
              "    <tr>\n",
              "      <th>User_Score</th>\n",
              "      <td>9129</td>\n",
              "      <td>54.603</td>\n",
              "    </tr>\n",
              "    <tr>\n",
              "      <th>User_Count</th>\n",
              "      <td>9129</td>\n",
              "      <td>54.603</td>\n",
              "    </tr>\n",
              "    <tr>\n",
              "      <th>Critic_Score</th>\n",
              "      <td>8582</td>\n",
              "      <td>51.331</td>\n",
              "    </tr>\n",
              "    <tr>\n",
              "      <th>Critic_Count</th>\n",
              "      <td>8582</td>\n",
              "      <td>51.331</td>\n",
              "    </tr>\n",
              "    <tr>\n",
              "      <th>Rating</th>\n",
              "      <td>6769</td>\n",
              "      <td>40.487</td>\n",
              "    </tr>\n",
              "    <tr>\n",
              "      <th>Developer</th>\n",
              "      <td>6623</td>\n",
              "      <td>39.614</td>\n",
              "    </tr>\n",
              "    <tr>\n",
              "      <th>Year_of_Release</th>\n",
              "      <td>269</td>\n",
              "      <td>1.609</td>\n",
              "    </tr>\n",
              "    <tr>\n",
              "      <th>Publisher</th>\n",
              "      <td>54</td>\n",
              "      <td>0.323</td>\n",
              "    </tr>\n",
              "    <tr>\n",
              "      <th>Name</th>\n",
              "      <td>2</td>\n",
              "      <td>0.012</td>\n",
              "    </tr>\n",
              "    <tr>\n",
              "      <th>Genre</th>\n",
              "      <td>2</td>\n",
              "      <td>0.012</td>\n",
              "    </tr>\n",
              "  </tbody>\n",
              "</table>\n",
              "</div>"
            ],
            "text/plain": [
              "                 Missing Values  % of Total Values\n",
              "User_Score                 9129             54.603\n",
              "User_Count                 9129             54.603\n",
              "Critic_Score               8582             51.331\n",
              "Critic_Count               8582             51.331\n",
              "Rating                     6769             40.487\n",
              "Developer                  6623             39.614\n",
              "Year_of_Release             269              1.609\n",
              "Publisher                    54              0.323\n",
              "Name                          2              0.012\n",
              "Genre                         2              0.012"
            ]
          },
          "execution_count": 71,
          "metadata": {},
          "output_type": "execute_result"
        }
      ],
      "source": [
        "missing_values_table(df)"
      ]
    },
    {
      "cell_type": "code",
      "execution_count": null,
      "id": "f79bf151",
      "metadata": {
        "id": "f79bf151"
      },
      "outputs": [],
      "source": [
        "df=df.dropna(subset=[\"Name\",\"Genre\",\"Publisher\",\"Year_of_Release\"],axis=0).copy()"
      ]
    },
    {
      "cell_type": "code",
      "execution_count": null,
      "id": "9a2f185a",
      "metadata": {
        "id": "9a2f185a",
        "outputId": "b706d086-8dec-451d-968f-8735e677fed6"
      },
      "outputs": [
        {
          "name": "stdout",
          "output_type": "stream",
          "text": [
            "Your selected dataframe has 16 columns.\n",
            "There are 6 columns that have missing values.\n"
          ]
        },
        {
          "data": {
            "text/html": [
              "<div>\n",
              "<style scoped>\n",
              "    .dataframe tbody tr th:only-of-type {\n",
              "        vertical-align: middle;\n",
              "    }\n",
              "\n",
              "    .dataframe tbody tr th {\n",
              "        vertical-align: top;\n",
              "    }\n",
              "\n",
              "    .dataframe thead th {\n",
              "        text-align: right;\n",
              "    }\n",
              "</style>\n",
              "<table border=\"1\" class=\"dataframe\">\n",
              "  <thead>\n",
              "    <tr style=\"text-align: right;\">\n",
              "      <th></th>\n",
              "      <th>Missing Values</th>\n",
              "      <th>% of Total Values</th>\n",
              "    </tr>\n",
              "  </thead>\n",
              "  <tbody>\n",
              "    <tr>\n",
              "      <th>User_Score</th>\n",
              "      <td>8955</td>\n",
              "      <td>54.550</td>\n",
              "    </tr>\n",
              "    <tr>\n",
              "      <th>User_Count</th>\n",
              "      <td>8955</td>\n",
              "      <td>54.550</td>\n",
              "    </tr>\n",
              "    <tr>\n",
              "      <th>Critic_Score</th>\n",
              "      <td>8434</td>\n",
              "      <td>51.377</td>\n",
              "    </tr>\n",
              "    <tr>\n",
              "      <th>Critic_Count</th>\n",
              "      <td>8434</td>\n",
              "      <td>51.377</td>\n",
              "    </tr>\n",
              "    <tr>\n",
              "      <th>Rating</th>\n",
              "      <td>6649</td>\n",
              "      <td>40.503</td>\n",
              "    </tr>\n",
              "    <tr>\n",
              "      <th>Developer</th>\n",
              "      <td>6512</td>\n",
              "      <td>39.669</td>\n",
              "    </tr>\n",
              "  </tbody>\n",
              "</table>\n",
              "</div>"
            ],
            "text/plain": [
              "              Missing Values  % of Total Values\n",
              "User_Score              8955             54.550\n",
              "User_Count              8955             54.550\n",
              "Critic_Score            8434             51.377\n",
              "Critic_Count            8434             51.377\n",
              "Rating                  6649             40.503\n",
              "Developer               6512             39.669"
            ]
          },
          "execution_count": 73,
          "metadata": {},
          "output_type": "execute_result"
        }
      ],
      "source": [
        "missing_values_table(df)"
      ]
    },
    {
      "cell_type": "code",
      "execution_count": null,
      "id": "aa4225cd",
      "metadata": {
        "id": "aa4225cd",
        "outputId": "cb022c45-9690-43a9-cdcc-a6eb8e8e968d"
      },
      "outputs": [
        {
          "name": "stdout",
          "output_type": "stream",
          "text": [
            "Mode of Developer : Ubisoft\n",
            "Mode of Rating : E\n",
            "\n",
            "Your selected dataframe has 16 columns.\n",
            "There are 4 columns that have missing values.\n"
          ]
        },
        {
          "data": {
            "text/html": [
              "<div>\n",
              "<style scoped>\n",
              "    .dataframe tbody tr th:only-of-type {\n",
              "        vertical-align: middle;\n",
              "    }\n",
              "\n",
              "    .dataframe tbody tr th {\n",
              "        vertical-align: top;\n",
              "    }\n",
              "\n",
              "    .dataframe thead th {\n",
              "        text-align: right;\n",
              "    }\n",
              "</style>\n",
              "<table border=\"1\" class=\"dataframe\">\n",
              "  <thead>\n",
              "    <tr style=\"text-align: right;\">\n",
              "      <th></th>\n",
              "      <th>Missing Values</th>\n",
              "      <th>% of Total Values</th>\n",
              "    </tr>\n",
              "  </thead>\n",
              "  <tbody>\n",
              "    <tr>\n",
              "      <th>User_Score</th>\n",
              "      <td>8955</td>\n",
              "      <td>54.550</td>\n",
              "    </tr>\n",
              "    <tr>\n",
              "      <th>User_Count</th>\n",
              "      <td>8955</td>\n",
              "      <td>54.550</td>\n",
              "    </tr>\n",
              "    <tr>\n",
              "      <th>Critic_Score</th>\n",
              "      <td>8434</td>\n",
              "      <td>51.377</td>\n",
              "    </tr>\n",
              "    <tr>\n",
              "      <th>Critic_Count</th>\n",
              "      <td>8434</td>\n",
              "      <td>51.377</td>\n",
              "    </tr>\n",
              "  </tbody>\n",
              "</table>\n",
              "</div>"
            ],
            "text/plain": [
              "              Missing Values  % of Total Values\n",
              "User_Score              8955             54.550\n",
              "User_Count              8955             54.550\n",
              "Critic_Score            8434             51.377\n",
              "Critic_Count            8434             51.377"
            ]
          },
          "execution_count": 74,
          "metadata": {},
          "output_type": "execute_result"
        }
      ],
      "source": [
        "dev=(df[\"Developer\"].mode())[0]\n",
        "rate=(df[\"Rating\"].mode())[0]\n",
        "print(\"Mode of Developer :\",dev)\n",
        "print(\"Mode of Rating :\",rate)\n",
        "df[\"Developer\"].fillna((df[\"Developer\"].mode())[0],inplace=True)\n",
        "df[\"Rating\"].fillna((df[\"Rating\"].mode())[0],inplace=True)\n",
        "print()\n",
        "missing_values_table(df)"
      ]
    },
    {
      "cell_type": "code",
      "execution_count": null,
      "id": "c59abaae",
      "metadata": {
        "id": "c59abaae",
        "outputId": "88a4b21e-4371-4829-d443-d8a32b0f170e"
      },
      "outputs": [
        {
          "name": "stdout",
          "output_type": "stream",
          "text": [
            "Mean of User_Score : 7.126899879372788\n",
            "Mean of User_Count : 163.0088459991958\n",
            "Mean of Critic_Score : 68.9971185166625\n",
            "Mean of Critic_Count : 26.440992232523175\n"
          ]
        }
      ],
      "source": [
        "us=df[\"User_Score\"].mean()\n",
        "uc=df[\"User_Count\"].mean()\n",
        "cs=df[\"Critic_Score\"].mean()\n",
        "cc=df[\"Critic_Count\"].mean()\n",
        "print(\"Mean of User_Score :\",us)\n",
        "print(\"Mean of User_Count :\",uc)\n",
        "print(\"Mean of Critic_Score :\",cs)\n",
        "print(\"Mean of Critic_Count :\",cc)"
      ]
    },
    {
      "cell_type": "code",
      "execution_count": null,
      "id": "ce109187",
      "metadata": {
        "id": "ce109187"
      },
      "outputs": [],
      "source": [
        "df[\"User_Score\"].fillna(df[\"User_Score\"].mean(),inplace=True)\n",
        "df[\"User_Count\"].fillna(df[\"User_Count\"].mean(),inplace=True)\n",
        "df[\"Critic_Score\"].fillna(df[\"Critic_Score\"].mean(),inplace=True)\n",
        "df[\"Critic_Count\"].fillna(df[\"Critic_Count\"].mean(),inplace=True)"
      ]
    },
    {
      "cell_type": "code",
      "execution_count": null,
      "id": "ee77b858",
      "metadata": {
        "id": "ee77b858",
        "outputId": "d4d3c769-6f85-425c-fe71-b1e8906d5e56"
      },
      "outputs": [
        {
          "name": "stdout",
          "output_type": "stream",
          "text": [
            "Your selected dataframe has 16 columns.\n",
            "There are 0 columns that have missing values.\n"
          ]
        },
        {
          "data": {
            "text/html": [
              "<div>\n",
              "<style scoped>\n",
              "    .dataframe tbody tr th:only-of-type {\n",
              "        vertical-align: middle;\n",
              "    }\n",
              "\n",
              "    .dataframe tbody tr th {\n",
              "        vertical-align: top;\n",
              "    }\n",
              "\n",
              "    .dataframe thead th {\n",
              "        text-align: right;\n",
              "    }\n",
              "</style>\n",
              "<table border=\"1\" class=\"dataframe\">\n",
              "  <thead>\n",
              "    <tr style=\"text-align: right;\">\n",
              "      <th></th>\n",
              "      <th>Missing Values</th>\n",
              "      <th>% of Total Values</th>\n",
              "    </tr>\n",
              "  </thead>\n",
              "  <tbody>\n",
              "  </tbody>\n",
              "</table>\n",
              "</div>"
            ],
            "text/plain": [
              "Empty DataFrame\n",
              "Columns: [Missing Values, % of Total Values]\n",
              "Index: []"
            ]
          },
          "execution_count": 77,
          "metadata": {},
          "output_type": "execute_result"
        }
      ],
      "source": [
        "missing_values_table(df)"
      ]
    },
    {
      "cell_type": "markdown",
      "id": "6cc04d42",
      "metadata": {
        "id": "6cc04d42"
      },
      "source": [
        "## OUTLIERS"
      ]
    },
    {
      "cell_type": "code",
      "execution_count": null,
      "id": "a88ad4f6",
      "metadata": {
        "id": "a88ad4f6"
      },
      "outputs": [],
      "source": [
        "def outlier(data):\n",
        "    print(data.describe())\n",
        "    sns.set(rc={'figure.figsize':(25,10)})\n",
        "    sns.boxplot(x=data)\n",
        "    plt.show()\n",
        "    a=data.quantile(0.25)\n",
        "    b=data.quantile(0.75)\n",
        "    print(f\"Q1:{a},Q3:{b}\")\n",
        "    iqr=b-a\n",
        "    print(\"IQR :\",iqr)\n",
        "    l=a-(1.5*iqr)\n",
        "    u=b+(1.5*iqr)\n",
        "    print(f\"RANGE IS ({l},{u})\")\n",
        "    tenth_percentile = np.percentile(data, 25)\n",
        "    ninetieth_percentile = np.percentile(data, 80)\n",
        "    data.mask(data<tenth_percentile, tenth_percentile, inplace=True)\n",
        "    data.mask(data>ninetieth_percentile, ninetieth_percentile, inplace=True)\n",
        "    sns.set(rc={'figure.figsize':(25,10)})\n",
        "    sns.boxplot(x=data)\n",
        "    plt.show()\n",
        "    print(data.describe())"
      ]
    },
    {
      "cell_type": "code",
      "execution_count": null,
      "id": "047ebf59",
      "metadata": {
        "id": "047ebf59",
        "outputId": "738e180b-f822-4219-b69d-c52056252c2c"
      },
      "outputs": [
        {
          "name": "stdout",
          "output_type": "stream",
          "text": [
            "count    16416.000000\n",
            "mean         0.264129\n",
            "std          0.819028\n",
            "min          0.000000\n",
            "25%          0.000000\n",
            "50%          0.080000\n",
            "75%          0.240000\n",
            "max         41.360000\n",
            "Name: NA_Sales, dtype: float64\n"
          ]
        },
        {
          "data": {
            "image/png": "[encoded data removed]",
            "text/plain": [
              "<Figure size 1800x720 with 1 Axes>"
            ]
          },
          "metadata": {},
          "output_type": "display_data"
        },
        {
          "name": "stdout",
          "output_type": "stream",
          "text": [
            "Q1:0.0,Q3:0.24\n",
            "IQR : 0.24\n",
            "RANGE IS (-0.36,0.6)\n"
          ]
        },
        {
          "data": {
            "image/png": "[encoded data removed]",
            "text/plain": [
              "<Figure size 1800x720 with 1 Axes>"
            ]
          },
          "metadata": {},
          "output_type": "display_data"
        },
        {
          "name": "stdout",
          "output_type": "stream",
          "text": [
            "count    16416.000000\n",
            "mean         0.119515\n",
            "std          0.120145\n",
            "min          0.000000\n",
            "25%          0.000000\n",
            "50%          0.080000\n",
            "75%          0.240000\n",
            "max          0.310000\n",
            "Name: NA_Sales, dtype: float64\n"
          ]
        }
      ],
      "source": [
        "outlier(df['NA_Sales'])"
      ]
    },
    {
      "cell_type": "code",
      "execution_count": null,
      "id": "9a62c4a2",
      "metadata": {
        "id": "9a62c4a2",
        "outputId": "8f70b2ba-c90b-40b4-9753-ab5526a49d84"
      },
      "outputs": [
        {
          "name": "stdout",
          "output_type": "stream",
          "text": [
            "count    16416.000000\n",
            "mean         0.146034\n",
            "std          0.507134\n",
            "min          0.000000\n",
            "25%          0.000000\n",
            "50%          0.020000\n",
            "75%          0.110000\n",
            "max         28.960000\n",
            "Name: EU_Sales, dtype: float64\n"
          ]
        },
        {
          "data": {
            "image/png": "[encoded data removed]",
            "text/plain": [
              "<Figure size 1800x720 with 1 Axes>"
            ]
          },
          "metadata": {},
          "output_type": "display_data"
        },
        {
          "name": "stdout",
          "output_type": "stream",
          "text": [
            "Q1:0.0,Q3:0.11\n",
            "IQR : 0.11\n",
            "RANGE IS (-0.165,0.275)\n"
          ]
        },
        {
          "data": {
            "image/png": "[encoded data removed]",
            "text/plain": [
              "<Figure size 1800x720 with 1 Axes>"
            ]
          },
          "metadata": {},
          "output_type": "display_data"
        },
        {
          "name": "stdout",
          "output_type": "stream",
          "text": [
            "count    16416.000000\n",
            "mean         0.051830\n",
            "std          0.059536\n",
            "min          0.000000\n",
            "25%          0.000000\n",
            "50%          0.020000\n",
            "75%          0.110000\n",
            "max          0.150000\n",
            "Name: EU_Sales, dtype: float64\n"
          ]
        }
      ],
      "source": [
        "outlier(df['EU_Sales'])"
      ]
    },
    {
      "cell_type": "code",
      "execution_count": null,
      "id": "8bc77d3d",
      "metadata": {
        "id": "8bc77d3d",
        "outputId": "ee5839c3-8aef-4d8d-d451-a79bdfbc9c3c"
      },
      "outputs": [
        {
          "name": "stdout",
          "output_type": "stream",
          "text": [
            "count    16416.000000\n",
            "mean         0.078623\n",
            "std          0.311348\n",
            "min          0.000000\n",
            "25%          0.000000\n",
            "50%          0.000000\n",
            "75%          0.040000\n",
            "max         10.220000\n",
            "Name: JP_Sales, dtype: float64\n"
          ]
        },
        {
          "data": {
            "image/png": "[encoded data removed]",
            "text/plain": [
              "<Figure size 1800x720 with 1 Axes>"
            ]
          },
          "metadata": {},
          "output_type": "display_data"
        },
        {
          "name": "stdout",
          "output_type": "stream",
          "text": [
            "Q1:0.0,Q3:0.04\n",
            "IQR : 0.04\n",
            "RANGE IS (-0.06,0.1)\n"
          ]
        },
        {
          "data": {
            "image/png": "[encoded data removed]",
            "text/plain": [
              "<Figure size 1800x720 with 1 Axes>"
            ]
          },
          "metadata": {},
          "output_type": "display_data"
        },
        {
          "name": "stdout",
          "output_type": "stream",
          "text": [
            "count    16416.000000\n",
            "mean         0.016890\n",
            "std          0.024754\n",
            "min          0.000000\n",
            "25%          0.000000\n",
            "50%          0.000000\n",
            "75%          0.040000\n",
            "max          0.060000\n",
            "Name: JP_Sales, dtype: float64\n"
          ]
        }
      ],
      "source": [
        "outlier(df['JP_Sales'])"
      ]
    },
    {
      "cell_type": "code",
      "execution_count": null,
      "id": "4a59e9a0",
      "metadata": {
        "id": "4a59e9a0",
        "outputId": "b4f782a9-0b4c-4082-9c56-54ee340c4c0e"
      },
      "outputs": [
        {
          "name": "stdout",
          "output_type": "stream",
          "text": [
            "count    16416.000000\n",
            "mean         0.047670\n",
            "std          0.188156\n",
            "min          0.000000\n",
            "25%          0.000000\n",
            "50%          0.010000\n",
            "75%          0.030000\n",
            "max         10.570000\n",
            "Name: Other_Sales, dtype: float64\n"
          ]
        },
        {
          "data": {
            "image/png": "[encoded data removed]",
            "text/plain": [
              "<Figure size 1800x720 with 1 Axes>"
            ]
          },
          "metadata": {},
          "output_type": "display_data"
        },
        {
          "name": "stdout",
          "output_type": "stream",
          "text": [
            "Q1:0.0,Q3:0.03\n",
            "IQR : 0.03\n",
            "RANGE IS (-0.045,0.075)\n"
          ]
        },
        {
          "data": {
            "image/png": "[encoded data removed]",
            "text/plain": [
              "<Figure size 1800x720 with 1 Axes>"
            ]
          },
          "metadata": {},
          "output_type": "display_data"
        },
        {
          "name": "stdout",
          "output_type": "stream",
          "text": [
            "count    16416.000000\n",
            "mean         0.017611\n",
            "std          0.019509\n",
            "min          0.000000\n",
            "25%          0.000000\n",
            "50%          0.010000\n",
            "75%          0.030000\n",
            "max          0.050000\n",
            "Name: Other_Sales, dtype: float64\n"
          ]
        }
      ],
      "source": [
        "outlier(df['Other_Sales'])"
      ]
    },
    {
      "cell_type": "code",
      "execution_count": null,
      "id": "3fd85365",
      "metadata": {
        "id": "3fd85365",
        "outputId": "5b5f57ec-f6d9-491c-b8c5-7b63ca3f7097"
      },
      "outputs": [
        {
          "name": "stdout",
          "output_type": "stream",
          "text": [
            "count    16416.000000\n",
            "mean         0.536708\n",
            "std          1.559885\n",
            "min          0.010000\n",
            "25%          0.060000\n",
            "50%          0.170000\n",
            "75%          0.470000\n",
            "max         82.530000\n",
            "Name: Global_Sales, dtype: float64\n"
          ]
        },
        {
          "data": {
            "image/png": "[encoded data removed]",
            "text/plain": [
              "<Figure size 1800x720 with 1 Axes>"
            ]
          },
          "metadata": {},
          "output_type": "display_data"
        },
        {
          "name": "stdout",
          "output_type": "stream",
          "text": [
            "Q1:0.06,Q3:0.47\n",
            "IQR : 0.41\n",
            "RANGE IS (-0.5549999999999999,1.085)\n"
          ]
        },
        {
          "data": {
            "image/png": "[encoded data removed]",
            "text/plain": [
              "<Figure size 1800x720 with 1 Axes>"
            ]
          },
          "metadata": {},
          "output_type": "display_data"
        },
        {
          "name": "stdout",
          "output_type": "stream",
          "text": [
            "count    16416.000000\n",
            "mean         0.260985\n",
            "std          0.212387\n",
            "min          0.060000\n",
            "25%          0.060000\n",
            "50%          0.170000\n",
            "75%          0.470000\n",
            "max          0.600000\n",
            "Name: Global_Sales, dtype: float64\n"
          ]
        }
      ],
      "source": [
        "outlier(df['Global_Sales'])"
      ]
    },
    {
      "cell_type": "code",
      "execution_count": null,
      "id": "307434ed",
      "metadata": {
        "id": "307434ed",
        "outputId": "74ffd554-fc8e-4112-f86c-0bb49b1eab25"
      },
      "outputs": [
        {
          "name": "stdout",
          "output_type": "stream",
          "text": [
            "count    16416.000000\n",
            "mean        68.997119\n",
            "std          9.705292\n",
            "min         13.000000\n",
            "25%         68.997119\n",
            "50%         68.997119\n",
            "75%         70.000000\n",
            "max         98.000000\n",
            "Name: Critic_Score, dtype: float64\n"
          ]
        },
        {
          "data": {
            "image/png": "[encoded data removed]",
            "text/plain": [
              "<Figure size 1800x720 with 1 Axes>"
            ]
          },
          "metadata": {},
          "output_type": "display_data"
        },
        {
          "name": "stdout",
          "output_type": "stream",
          "text": [
            "Q1:68.9971185166625,Q3:70.0\n",
            "IQR : 1.0028814833375037\n",
            "RANGE IS (67.49279629165625,71.50432222500626)\n"
          ]
        },
        {
          "data": {
            "image/png": "[encoded data removed]",
            "text/plain": [
              "<Figure size 1800x720 with 1 Axes>"
            ]
          },
          "metadata": {},
          "output_type": "display_data"
        },
        {
          "name": "stdout",
          "output_type": "stream",
          "text": [
            "count    16416.000000\n",
            "mean        70.157935\n",
            "std          2.041815\n",
            "min         68.997119\n",
            "25%         68.997119\n",
            "50%         68.997119\n",
            "75%         70.000000\n",
            "max         74.000000\n",
            "Name: Critic_Score, dtype: float64\n"
          ]
        }
      ],
      "source": [
        "outlier(df['Critic_Score'])"
      ]
    },
    {
      "cell_type": "code",
      "execution_count": null,
      "id": "5bcd9231",
      "metadata": {
        "id": "5bcd9231",
        "outputId": "6b1e1946-1381-4581-d698-52ba9e3455e8"
      },
      "outputs": [
        {
          "name": "stdout",
          "output_type": "stream",
          "text": [
            "count    16416.000000\n",
            "mean        26.440992\n",
            "std         13.254839\n",
            "min          3.000000\n",
            "25%         22.000000\n",
            "50%         26.440992\n",
            "75%         26.440992\n",
            "max        113.000000\n",
            "Name: Critic_Count, dtype: float64\n"
          ]
        },
        {
          "data": {
            "image/png": "[encoded data removed]",
            "text/plain": [
              "<Figure size 1800x720 with 1 Axes>"
            ]
          },
          "metadata": {},
          "output_type": "display_data"
        },
        {
          "name": "stdout",
          "output_type": "stream",
          "text": [
            "Q1:22.0,Q3:26.440992232523175\n",
            "IQR : 4.440992232523175\n",
            "RANGE IS (15.338511651215237,33.10248058130794)\n"
          ]
        },
        {
          "data": {
            "image/png": "[encoded data removed]",
            "text/plain": [
              "<Figure size 1800x720 with 1 Axes>"
            ]
          },
          "metadata": {},
          "output_type": "display_data"
        },
        {
          "name": "stdout",
          "output_type": "stream",
          "text": [
            "count    16416.000000\n",
            "mean        25.237323\n",
            "std          1.938544\n",
            "min         22.000000\n",
            "25%         22.000000\n",
            "50%         26.440992\n",
            "75%         26.440992\n",
            "max         26.440992\n",
            "Name: Critic_Count, dtype: float64\n"
          ]
        }
      ],
      "source": [
        "outlier(df['Critic_Count'])"
      ]
    },
    {
      "cell_type": "code",
      "execution_count": null,
      "id": "7740816b",
      "metadata": {
        "id": "7740816b",
        "outputId": "317964d2-6737-4cb4-8106-aa4f285f5f92"
      },
      "outputs": [
        {
          "name": "stdout",
          "output_type": "stream",
          "text": [
            "count    16416.000000\n",
            "mean         7.126900\n",
            "std          1.010456\n",
            "min          0.000000\n",
            "25%          7.126900\n",
            "50%          7.126900\n",
            "75%          7.300000\n",
            "max          9.700000\n",
            "Name: User_Score, dtype: float64\n"
          ]
        },
        {
          "data": {
            "image/png": "[encoded data removed]",
            "text/plain": [
              "<Figure size 1800x720 with 1 Axes>"
            ]
          },
          "metadata": {},
          "output_type": "display_data"
        },
        {
          "name": "stdout",
          "output_type": "stream",
          "text": [
            "Q1:7.126899879372788,Q3:7.3\n",
            "IQR : 0.17310012062721203\n",
            "RANGE IS (6.867249698431969,7.559650180940817)\n"
          ]
        },
        {
          "data": {
            "image/png": "[encoded data removed]",
            "text/plain": [
              "<Figure size 1800x720 with 1 Axes>"
            ]
          },
          "metadata": {},
          "output_type": "display_data"
        },
        {
          "name": "stdout",
          "output_type": "stream",
          "text": [
            "count    16416.000000\n",
            "mean         7.262309\n",
            "std          0.234763\n",
            "min          7.126900\n",
            "25%          7.126900\n",
            "50%          7.126900\n",
            "75%          7.300000\n",
            "max          7.700000\n",
            "Name: User_Score, dtype: float64\n"
          ]
        }
      ],
      "source": [
        "outlier(df['User_Score'])"
      ]
    },
    {
      "cell_type": "code",
      "execution_count": null,
      "id": "dac92b3f",
      "metadata": {
        "scrolled": true,
        "id": "dac92b3f",
        "outputId": "6218806c-6ace-4660-d190-11d9cf9a6c1b"
      },
      "outputs": [
        {
          "name": "stdout",
          "output_type": "stream",
          "text": [
            "count    16416.000000\n",
            "mean       163.008846\n",
            "std        380.168417\n",
            "min          4.000000\n",
            "25%         30.000000\n",
            "50%        163.008846\n",
            "75%        163.008846\n",
            "max      10665.000000\n",
            "Name: User_Count, dtype: float64\n"
          ]
        },
        {
          "data": {
            "image/png": "[encoded data removed]",
            "text/plain": [
              "<Figure size 1800x720 with 1 Axes>"
            ]
          },
          "metadata": {},
          "output_type": "display_data"
        },
        {
          "name": "stdout",
          "output_type": "stream",
          "text": [
            "Q1:30.0,Q3:163.0088459991958\n",
            "IQR : 133.0088459991958\n",
            "RANGE IS (-169.5132689987937,362.52211499798955)\n"
          ]
        },
        {
          "data": {
            "image/png": "[encoded data removed]",
            "text/plain": [
              "<Figure size 1800x720 with 1 Axes>"
            ]
          },
          "metadata": {},
          "output_type": "display_data"
        },
        {
          "name": "stdout",
          "output_type": "stream",
          "text": [
            "count    16416.000000\n",
            "mean       117.385694\n",
            "std         60.453680\n",
            "min         30.000000\n",
            "25%         30.000000\n",
            "50%        163.008846\n",
            "75%        163.008846\n",
            "max        163.008846\n",
            "Name: User_Count, dtype: float64\n"
          ]
        }
      ],
      "source": [
        "outlier(df['User_Count'])"
      ]
    },
    {
      "cell_type": "code",
      "execution_count": null,
      "id": "3f3f2f67",
      "metadata": {
        "id": "3f3f2f67"
      },
      "outputs": [],
      "source": [
        "def scal_norm(data):\n",
        "    l=min(data)\n",
        "    u=max(data)\n",
        "    mn=(data).mean()\n",
        "    sd=(data).std()\n",
        "    normalized_val=[]\n",
        "    scaled_val=[]\n",
        "    for i in data:\n",
        "      normalized_val.append((i-l)/(u-l))\n",
        "      scaled_val.append((i-mn)/sd)\n",
        "    #print(normalized_val)\n",
        "    data.replace(normalized_val, inplace=True)\n",
        "    #data.replace(scaled_val,inplace=True)\n",
        "    return data"
      ]
    },
    {
      "cell_type": "code",
      "execution_count": null,
      "id": "80722c17",
      "metadata": {
        "id": "80722c17",
        "outputId": "efa3589f-7fb2-466c-e977-cf23d5828307"
      },
      "outputs": [
        {
          "data": {
            "text/plain": [
              "0        0.15\n",
              "1        0.15\n",
              "2        0.15\n",
              "3        0.15\n",
              "4        0.15\n",
              "         ... \n",
              "16714    0.01\n",
              "16715    0.01\n",
              "16716    0.01\n",
              "16717    0.01\n",
              "16718    0.01\n",
              "Name: EU_Sales, Length: 16416, dtype: float64"
            ]
          },
          "execution_count": 89,
          "metadata": {},
          "output_type": "execute_result"
        }
      ],
      "source": [
        "scal_norm(df['EU_Sales'])"
      ]
    },
    {
      "cell_type": "code",
      "execution_count": null,
      "id": "9ae1d145",
      "metadata": {
        "id": "9ae1d145",
        "outputId": "d6f54eba-8569-4829-8afa-cf5c19788685"
      },
      "outputs": [
        {
          "data": {
            "text/plain": [
              "0        0.31\n",
              "1        0.31\n",
              "2        0.31\n",
              "3        0.31\n",
              "4        0.31\n",
              "         ... \n",
              "16714    0.01\n",
              "16715    0.01\n",
              "16716    0.01\n",
              "16717    0.01\n",
              "16718    0.01\n",
              "Name: NA_Sales, Length: 16416, dtype: float64"
            ]
          },
          "execution_count": 90,
          "metadata": {},
          "output_type": "execute_result"
        }
      ],
      "source": [
        "scal_norm(df['NA_Sales'])"
      ]
    },
    {
      "cell_type": "code",
      "execution_count": null,
      "id": "dce1f4c4",
      "metadata": {
        "id": "dce1f4c4",
        "outputId": "2a17287c-2689-4570-b25c-5c17a288ac73"
      },
      "outputs": [
        {
          "data": {
            "text/plain": [
              "0        0.06\n",
              "1        0.06\n",
              "2        0.06\n",
              "3        0.06\n",
              "4        0.06\n",
              "         ... \n",
              "16714    0.01\n",
              "16715    0.01\n",
              "16716    0.01\n",
              "16717    0.01\n",
              "16718    0.01\n",
              "Name: JP_Sales, Length: 16416, dtype: float64"
            ]
          },
          "execution_count": 91,
          "metadata": {},
          "output_type": "execute_result"
        }
      ],
      "source": [
        "scal_norm(df['JP_Sales'])"
      ]
    },
    {
      "cell_type": "code",
      "execution_count": null,
      "id": "95494f93",
      "metadata": {
        "id": "95494f93",
        "outputId": "ca4a5244-e2b7-4f62-f0d7-2000a3aed554"
      },
      "outputs": [
        {
          "data": {
            "text/plain": [
              "0        0.05\n",
              "1        0.05\n",
              "2        0.05\n",
              "3        0.05\n",
              "4        0.05\n",
              "         ... \n",
              "16714    0.01\n",
              "16715    0.01\n",
              "16716    0.01\n",
              "16717    0.01\n",
              "16718    0.01\n",
              "Name: Other_Sales, Length: 16416, dtype: float64"
            ]
          },
          "execution_count": 92,
          "metadata": {},
          "output_type": "execute_result"
        }
      ],
      "source": [
        "scal_norm(df['Other_Sales'])"
      ]
    },
    {
      "cell_type": "code",
      "execution_count": null,
      "id": "44f59712",
      "metadata": {
        "id": "44f59712",
        "outputId": "067e2520-7e55-42ac-8793-9ab1bd7a1295"
      },
      "outputs": [
        {
          "data": {
            "text/plain": [
              "0        0.60\n",
              "1        0.60\n",
              "2        0.60\n",
              "3        0.60\n",
              "4        0.60\n",
              "         ... \n",
              "16714    0.06\n",
              "16715    0.06\n",
              "16716    0.06\n",
              "16717    0.06\n",
              "16718    0.06\n",
              "Name: Global_Sales, Length: 16416, dtype: float64"
            ]
          },
          "execution_count": 93,
          "metadata": {},
          "output_type": "execute_result"
        }
      ],
      "source": [
        "scal_norm(df['Global_Sales'])"
      ]
    },
    {
      "cell_type": "code",
      "execution_count": null,
      "id": "aa77d2cf",
      "metadata": {
        "id": "aa77d2cf",
        "outputId": "f84d415b-9d34-4a52-de2c-1afb5f081937"
      },
      "outputs": [
        {
          "data": {
            "text/plain": [
              "0        74.000000\n",
              "1        68.997119\n",
              "2        74.000000\n",
              "3        74.000000\n",
              "4        68.997119\n",
              "           ...    \n",
              "16714    68.997119\n",
              "16715    68.997119\n",
              "16716    68.997119\n",
              "16717    68.997119\n",
              "16718    68.997119\n",
              "Name: Critic_Score, Length: 16416, dtype: float64"
            ]
          },
          "execution_count": 94,
          "metadata": {},
          "output_type": "execute_result"
        }
      ],
      "source": [
        "scal_norm(df['Critic_Score'])"
      ]
    },
    {
      "cell_type": "code",
      "execution_count": null,
      "id": "b3f248fd",
      "metadata": {
        "id": "b3f248fd",
        "outputId": "f21956a4-a43c-4591-abcf-21b17643f95e"
      },
      "outputs": [
        {
          "data": {
            "text/plain": [
              "0        26.440992\n",
              "1        26.440992\n",
              "2        26.440992\n",
              "3        26.440992\n",
              "4        26.440992\n",
              "           ...    \n",
              "16714    26.440992\n",
              "16715    26.440992\n",
              "16716    26.440992\n",
              "16717    26.440992\n",
              "16718    26.440992\n",
              "Name: Critic_Count, Length: 16416, dtype: float64"
            ]
          },
          "execution_count": 95,
          "metadata": {},
          "output_type": "execute_result"
        }
      ],
      "source": [
        "scal_norm(df['Critic_Count'])"
      ]
    },
    {
      "cell_type": "code",
      "execution_count": null,
      "id": "e6eb17fa",
      "metadata": {
        "id": "e6eb17fa"
      },
      "outputs": [],
      "source": [
        "scal_norm(df['User_Score'])"
      ]
    },
    {
      "cell_type": "code",
      "execution_count": null,
      "id": "7e063d21",
      "metadata": {
        "id": "7e063d21",
        "outputId": "299a9733-602b-492d-9d8e-7f56dabc765e"
      },
      "outputs": [
        {
          "data": {
            "text/plain": [
              "0        163.008846\n",
              "1        163.008846\n",
              "2        163.008846\n",
              "3        163.008846\n",
              "4        163.008846\n",
              "            ...    \n",
              "16714    163.008846\n",
              "16715    163.008846\n",
              "16716    163.008846\n",
              "16717    163.008846\n",
              "16718    163.008846\n",
              "Name: User_Count, Length: 16416, dtype: float64"
            ]
          },
          "execution_count": 97,
          "metadata": {},
          "output_type": "execute_result"
        }
      ],
      "source": [
        "scal_norm(df['User_Count'])"
      ]
    },
    {
      "cell_type": "code",
      "execution_count": null,
      "id": "7877e2a1",
      "metadata": {
        "id": "7877e2a1",
        "outputId": "d8e23c90-22ad-4433-88b8-6bacaf578f5b"
      },
      "outputs": [
        {
          "data": {
            "text/plain": [
              "E       10570\n",
              "T        2904\n",
              "M        1536\n",
              "E10+     1393\n",
              "EC          8\n",
              "K-A         3\n",
              "AO          1\n",
              "RP          1\n",
              "Name: Rating, dtype: int64"
            ]
          },
          "execution_count": 98,
          "metadata": {},
          "output_type": "execute_result"
        }
      ],
      "source": [
        "df['Rating'].value_counts()"
      ]
    },
    {
      "cell_type": "code",
      "execution_count": null,
      "id": "714e96e1",
      "metadata": {
        "id": "714e96e1",
        "outputId": "530cc23e-208c-4e56-ea13-e71aaa576680"
      },
      "outputs": [
        {
          "data": {
            "text/plain": [
              "array([[0., 1., 0., ..., 0., 0., 0.],\n",
              "       [0., 1., 0., ..., 0., 0., 0.],\n",
              "       [0., 1., 0., ..., 0., 0., 0.],\n",
              "       ...,\n",
              "       [0., 1., 0., ..., 0., 0., 0.],\n",
              "       [0., 1., 0., ..., 0., 0., 0.],\n",
              "       [0., 1., 0., ..., 0., 0., 0.]])"
            ]
          },
          "execution_count": 108,
          "metadata": {},
          "output_type": "execute_result"
        }
      ],
      "source": [
        "from sklearn.preprocessing import OneHotEncoder\n",
        "x=df[['Rating']]\n",
        "encoder =OneHotEncoder(sparse=False)\n",
        "Rating_encoded = encoder.fit_transform(x)\n",
        "Rating_encoded\n"
      ]
    },
    {
      "cell_type": "code",
      "execution_count": null,
      "id": "291f4c1f",
      "metadata": {
        "id": "291f4c1f",
        "outputId": "937d6b74-c513-4f21-9d9a-d495098b1f34"
      },
      "outputs": [
        {
          "data": {
            "text/html": [
              "<div>\n",
              "<style scoped>\n",
              "    .dataframe tbody tr th:only-of-type {\n",
              "        vertical-align: middle;\n",
              "    }\n",
              "\n",
              "    .dataframe tbody tr th {\n",
              "        vertical-align: top;\n",
              "    }\n",
              "\n",
              "    .dataframe thead th {\n",
              "        text-align: right;\n",
              "    }\n",
              "</style>\n",
              "<table border=\"1\" class=\"dataframe\">\n",
              "  <thead>\n",
              "    <tr style=\"text-align: right;\">\n",
              "      <th></th>\n",
              "      <th>Rating_AO</th>\n",
              "      <th>Rating_E</th>\n",
              "      <th>Rating_E10+</th>\n",
              "      <th>Rating_EC</th>\n",
              "      <th>Rating_K-A</th>\n",
              "      <th>Rating_M</th>\n",
              "      <th>Rating_RP</th>\n",
              "      <th>Rating_T</th>\n",
              "    </tr>\n",
              "  </thead>\n",
              "  <tbody>\n",
              "    <tr>\n",
              "      <th>0</th>\n",
              "      <td>0.0</td>\n",
              "      <td>1.0</td>\n",
              "      <td>0.0</td>\n",
              "      <td>0.0</td>\n",
              "      <td>0.0</td>\n",
              "      <td>0.0</td>\n",
              "      <td>0.0</td>\n",
              "      <td>0.0</td>\n",
              "    </tr>\n",
              "    <tr>\n",
              "      <th>1</th>\n",
              "      <td>0.0</td>\n",
              "      <td>1.0</td>\n",
              "      <td>0.0</td>\n",
              "      <td>0.0</td>\n",
              "      <td>0.0</td>\n",
              "      <td>0.0</td>\n",
              "      <td>0.0</td>\n",
              "      <td>0.0</td>\n",
              "    </tr>\n",
              "    <tr>\n",
              "      <th>2</th>\n",
              "      <td>0.0</td>\n",
              "      <td>1.0</td>\n",
              "      <td>0.0</td>\n",
              "      <td>0.0</td>\n",
              "      <td>0.0</td>\n",
              "      <td>0.0</td>\n",
              "      <td>0.0</td>\n",
              "      <td>0.0</td>\n",
              "    </tr>\n",
              "    <tr>\n",
              "      <th>3</th>\n",
              "      <td>0.0</td>\n",
              "      <td>1.0</td>\n",
              "      <td>0.0</td>\n",
              "      <td>0.0</td>\n",
              "      <td>0.0</td>\n",
              "      <td>0.0</td>\n",
              "      <td>0.0</td>\n",
              "      <td>0.0</td>\n",
              "    </tr>\n",
              "    <tr>\n",
              "      <th>4</th>\n",
              "      <td>0.0</td>\n",
              "      <td>1.0</td>\n",
              "      <td>0.0</td>\n",
              "      <td>0.0</td>\n",
              "      <td>0.0</td>\n",
              "      <td>0.0</td>\n",
              "      <td>0.0</td>\n",
              "      <td>0.0</td>\n",
              "    </tr>\n",
              "    <tr>\n",
              "      <th>...</th>\n",
              "      <td>...</td>\n",
              "      <td>...</td>\n",
              "      <td>...</td>\n",
              "      <td>...</td>\n",
              "      <td>...</td>\n",
              "      <td>...</td>\n",
              "      <td>...</td>\n",
              "      <td>...</td>\n",
              "    </tr>\n",
              "    <tr>\n",
              "      <th>16411</th>\n",
              "      <td>0.0</td>\n",
              "      <td>1.0</td>\n",
              "      <td>0.0</td>\n",
              "      <td>0.0</td>\n",
              "      <td>0.0</td>\n",
              "      <td>0.0</td>\n",
              "      <td>0.0</td>\n",
              "      <td>0.0</td>\n",
              "    </tr>\n",
              "    <tr>\n",
              "      <th>16412</th>\n",
              "      <td>0.0</td>\n",
              "      <td>1.0</td>\n",
              "      <td>0.0</td>\n",
              "      <td>0.0</td>\n",
              "      <td>0.0</td>\n",
              "      <td>0.0</td>\n",
              "      <td>0.0</td>\n",
              "      <td>0.0</td>\n",
              "    </tr>\n",
              "    <tr>\n",
              "      <th>16413</th>\n",
              "      <td>0.0</td>\n",
              "      <td>1.0</td>\n",
              "      <td>0.0</td>\n",
              "      <td>0.0</td>\n",
              "      <td>0.0</td>\n",
              "      <td>0.0</td>\n",
              "      <td>0.0</td>\n",
              "      <td>0.0</td>\n",
              "    </tr>\n",
              "    <tr>\n",
              "      <th>16414</th>\n",
              "      <td>0.0</td>\n",
              "      <td>1.0</td>\n",
              "      <td>0.0</td>\n",
              "      <td>0.0</td>\n",
              "      <td>0.0</td>\n",
              "      <td>0.0</td>\n",
              "      <td>0.0</td>\n",
              "      <td>0.0</td>\n",
              "    </tr>\n",
              "    <tr>\n",
              "      <th>16415</th>\n",
              "      <td>0.0</td>\n",
              "      <td>1.0</td>\n",
              "      <td>0.0</td>\n",
              "      <td>0.0</td>\n",
              "      <td>0.0</td>\n",
              "      <td>0.0</td>\n",
              "      <td>0.0</td>\n",
              "      <td>0.0</td>\n",
              "    </tr>\n",
              "  </tbody>\n",
              "</table>\n",
              "<p>16416 rows × 8 columns</p>\n",
              "</div>"
            ],
            "text/plain": [
              "       Rating_AO  Rating_E  Rating_E10+  Rating_EC  Rating_K-A  Rating_M  \\\n",
              "0            0.0       1.0          0.0        0.0         0.0       0.0   \n",
              "1            0.0       1.0          0.0        0.0         0.0       0.0   \n",
              "2            0.0       1.0          0.0        0.0         0.0       0.0   \n",
              "3            0.0       1.0          0.0        0.0         0.0       0.0   \n",
              "4            0.0       1.0          0.0        0.0         0.0       0.0   \n",
              "...          ...       ...          ...        ...         ...       ...   \n",
              "16411        0.0       1.0          0.0        0.0         0.0       0.0   \n",
              "16412        0.0       1.0          0.0        0.0         0.0       0.0   \n",
              "16413        0.0       1.0          0.0        0.0         0.0       0.0   \n",
              "16414        0.0       1.0          0.0        0.0         0.0       0.0   \n",
              "16415        0.0       1.0          0.0        0.0         0.0       0.0   \n",
              "\n",
              "       Rating_RP  Rating_T  \n",
              "0            0.0       0.0  \n",
              "1            0.0       0.0  \n",
              "2            0.0       0.0  \n",
              "3            0.0       0.0  \n",
              "4            0.0       0.0  \n",
              "...          ...       ...  \n",
              "16411        0.0       0.0  \n",
              "16412        0.0       0.0  \n",
              "16413        0.0       0.0  \n",
              "16414        0.0       0.0  \n",
              "16415        0.0       0.0  \n",
              "\n",
              "[16416 rows x 8 columns]"
            ]
          },
          "execution_count": 112,
          "metadata": {},
          "output_type": "execute_result"
        }
      ],
      "source": [
        "feature_names = encoder.get_feature_names(input_features=[\"Rating\"])\n",
        "Rating_encoded = pd.DataFrame(Rating_encoded, columns=feature_names)\n",
        "Rating_encoded"
      ]
    },
    {
      "cell_type": "code",
      "execution_count": null,
      "id": "ef4ad4a0",
      "metadata": {
        "id": "ef4ad4a0",
        "outputId": "6929c369-1398-43f9-eb07-26085e85c913"
      },
      "outputs": [
        {
          "data": {
            "text/plain": [
              "<bound method NDFrame.describe of        Rating_AO  Rating_E  Rating_E10+  Rating_EC  Rating_K-A  Rating_M  \\\n",
              "0            0.0       1.0          0.0        0.0         0.0       0.0   \n",
              "1            0.0       1.0          0.0        0.0         0.0       0.0   \n",
              "2            0.0       1.0          0.0        0.0         0.0       0.0   \n",
              "3            0.0       1.0          0.0        0.0         0.0       0.0   \n",
              "4            0.0       1.0          0.0        0.0         0.0       0.0   \n",
              "...          ...       ...          ...        ...         ...       ...   \n",
              "16411        0.0       1.0          0.0        0.0         0.0       0.0   \n",
              "16412        0.0       1.0          0.0        0.0         0.0       0.0   \n",
              "16413        0.0       1.0          0.0        0.0         0.0       0.0   \n",
              "16414        0.0       1.0          0.0        0.0         0.0       0.0   \n",
              "16415        0.0       1.0          0.0        0.0         0.0       0.0   \n",
              "\n",
              "       Rating_RP  Rating_T  \n",
              "0            0.0       0.0  \n",
              "1            0.0       0.0  \n",
              "2            0.0       0.0  \n",
              "3            0.0       0.0  \n",
              "4            0.0       0.0  \n",
              "...          ...       ...  \n",
              "16411        0.0       0.0  \n",
              "16412        0.0       0.0  \n",
              "16413        0.0       0.0  \n",
              "16414        0.0       0.0  \n",
              "16415        0.0       0.0  \n",
              "\n",
              "[16416 rows x 8 columns]>"
            ]
          },
          "execution_count": 115,
          "metadata": {},
          "output_type": "execute_result"
        }
      ],
      "source": [
        "Rating_encoded.describe"
      ]
    },
    {
      "cell_type": "code",
      "execution_count": null,
      "id": "7aa34cdd",
      "metadata": {
        "id": "7aa34cdd"
      },
      "outputs": [],
      "source": []
    }
  ],
  "metadata": {
    "kernelspec": {
      "display_name": "Python 3 (ipykernel)",
      "language": "python",
      "name": "python3"
    },
    "language_info": {
      "codemirror_mode": {
        "name": "ipython",
        "version": 3
      },
      "file_extension": ".py",
      "mimetype": "text/x-python",
      "name": "python",
      "nbconvert_exporter": "python",
      "pygments_lexer": "ipython3",
      "version": "3.9.7"
    },
    "colab": {
      "provenance": []
    }
  },
  "nbformat": 4,
  "nbformat_minor": 5
}